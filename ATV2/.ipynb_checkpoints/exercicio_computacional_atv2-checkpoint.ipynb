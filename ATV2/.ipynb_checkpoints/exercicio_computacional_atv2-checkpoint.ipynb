{
 "cells": [
  {
   "cell_type": "code",
   "execution_count": 4,
   "id": "662aa097",
   "metadata": {},
   "outputs": [],
   "source": [
    "#importação das bibliotecas necessárias\n",
    "import numpy as np\n",
    "from matplotlib import pyplot as plt\n",
    "import soundfile as sf\n",
    "import sounddevice as sd\n",
    "import IPython.display as ipd"
   ]
  },
  {
   "cell_type": "code",
   "execution_count": 5,
   "id": "a52316ef",
   "metadata": {},
   "outputs": [],
   "source": [
    "#importação dos arquivos do áudio anecóico e da resposta ao impulso\n",
    "anec, fs_anec = sf.read('Viola, Grieg, Peer Gynt.wav')\n",
    "ht, fs_ht = sf.read('ht.wav')\n",
    "ht_l = ht[:,0]\n",
    "ht_r = ht[:,1]\n",
    "\n",
    "t_anec = np.linspace()\n",
    "\n",
    "#gera"
   ]
  }
 ],
 "metadata": {
  "kernelspec": {
   "display_name": "Python 3",
   "language": "python",
   "name": "python3"
  },
  "language_info": {
   "codemirror_mode": {
    "name": "ipython",
    "version": 3
   },
   "file_extension": ".py",
   "mimetype": "text/x-python",
   "name": "python",
   "nbconvert_exporter": "python",
   "pygments_lexer": "ipython3",
   "version": "3.8.8"
  }
 },
 "nbformat": 4,
 "nbformat_minor": 5
}
